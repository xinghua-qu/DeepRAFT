{
 "cells": [
  {
   "cell_type": "code",
   "execution_count": 1,
   "id": "595783a7",
   "metadata": {},
   "outputs": [],
   "source": [
    "from PIL import Image\n",
    "import PIL\n",
    "import os\n",
    "import glob\n",
    "\n",
    "base_width = 400\n",
    "ind = 1\n",
    "for file in glob.glob(\"meta_faces_1200/*-00.png\"):\n",
    "    image = Image.open(file)\n",
    "    width_percent = (base_width / float(image.size[0]))\n",
    "    hsize = int((float(image.size[1]) * float(width_percent)))\n",
    "    image = image.resize((base_width, hsize), PIL.Image.ANTIALIAS)\n",
    "    image.save('meta_faces_400/image_{}.png'.format(ind))\n",
    "    ind+=1"
   ]
  },
  {
   "cell_type": "code",
   "execution_count": null,
   "id": "bb1d2af7",
   "metadata": {},
   "outputs": [],
   "source": []
  }
 ],
 "metadata": {
  "kernelspec": {
   "display_name": "Python 3 (ipykernel)",
   "language": "python",
   "name": "python3"
  },
  "language_info": {
   "codemirror_mode": {
    "name": "ipython",
    "version": 3
   },
   "file_extension": ".py",
   "mimetype": "text/x-python",
   "name": "python",
   "nbconvert_exporter": "python",
   "pygments_lexer": "ipython3",
   "version": "3.7.3"
  }
 },
 "nbformat": 4,
 "nbformat_minor": 5
}
